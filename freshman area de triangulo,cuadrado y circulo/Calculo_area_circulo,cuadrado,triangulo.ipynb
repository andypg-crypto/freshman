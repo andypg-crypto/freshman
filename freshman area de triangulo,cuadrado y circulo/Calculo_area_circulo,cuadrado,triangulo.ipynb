{
  "nbformat": 4,
  "nbformat_minor": 0,
  "metadata": {
    "colab": {
      "provenance": []
    },
    "kernelspec": {
      "name": "python3",
      "display_name": "Python 3"
    },
    "language_info": {
      "name": "python"
    }
  },
  "cells": [
    {
      "cell_type": "markdown",
      "source": [],
      "metadata": {
        "id": "UGj71IPUi0lz"
      }
    },
    {
      "cell_type": "markdown",
      "source": [
        " Calcular el area de un triangulo"
      ],
      "metadata": {
        "id": "aeiOXWqkMqEh"
      }
    },
    {
      "cell_type": "code",
      "execution_count": null,
      "metadata": {
        "colab": {
          "base_uri": "https://localhost:8080/"
        },
        "id": "pNHHRzbQLN1A",
        "outputId": "c001e2e2-9c31-46b2-eaad-85c004eaff1f"
      },
      "outputs": [
        {
          "output_type": "stream",
          "name": "stdout",
          "text": [
            "Ingresa la base del triángulo: 5\n",
            "Ingresa la altura del triángulo: 2\n",
            "El área del triángulo es: 5.0\n"
          ]
        }
      ],
      "source": [
        "# Área de un triangulo = (base × altura) ÷ 2\n",
        "\n",
        "base = float(input(\"Ingresa la base del triángulo: \"))\n",
        "altura = float(input(\"Ingresa la altura del triángulo: \"))\n",
        "area_triangulo = (base * altura) / 2\n",
        "\n",
        "print(\"El área del triángulo es:\", area_triangulo)"
      ]
    },
    {
      "cell_type": "markdown",
      "source": [
        "Calcular el area de un circulo"
      ],
      "metadata": {
        "id": "yXPgF0xQNoPL"
      }
    },
    {
      "cell_type": "code",
      "source": [
        "# Área de un circulo = (pi * radio**2)\n",
        "\n",
        "import math\n",
        "\n",
        "radio = float(input(\"Ingresa el radio del círculo: \"))\n",
        "area_circulo = math.pi * radio**2\n",
        "\n",
        "print(\"El área del círculo es:\", area_circulo)\n"
      ],
      "metadata": {
        "colab": {
          "base_uri": "https://localhost:8080/"
        },
        "id": "fK9f8SZINuv9",
        "outputId": "95768832-5d11-44d1-df71-0e00be303297"
      },
      "execution_count": null,
      "outputs": [
        {
          "output_type": "stream",
          "name": "stdout",
          "text": [
            "Ingresa el radio del círculo: 3.5\n",
            "El área del círculo es: 38.48451000647496\n"
          ]
        }
      ]
    },
    {
      "cell_type": "markdown",
      "source": [
        "Calcular area de un cuadrado"
      ],
      "metadata": {
        "id": "Dv0gSyFAOuEe"
      }
    },
    {
      "cell_type": "code",
      "source": [
        "# Área de un cuadrado = lado * lado (o lado **2)\n",
        "\n",
        "lado = float(input(\"Ingresa el lado del cuadrado: \"))\n",
        "area_cuadrado = lado ** 2\n",
        "print(\"El área del cuadrado es:\", area_cuadrado)\n",
        "\n",
        "\n"
      ],
      "metadata": {
        "colab": {
          "base_uri": "https://localhost:8080/"
        },
        "id": "X_YTEMRFPBrr",
        "outputId": "53c5ac6a-ad28-4700-9ea7-b6d44b717aa6"
      },
      "execution_count": null,
      "outputs": [
        {
          "output_type": "stream",
          "name": "stdout",
          "text": [
            "Ingresa el lado del cuadrado: 4\n",
            "El área del cuadrado es: 16.0\n"
          ]
        }
      ]
    }
  ]
}